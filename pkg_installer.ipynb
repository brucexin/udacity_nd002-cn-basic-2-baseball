{
 "cells": [
  {
   "cell_type": "code",
   "execution_count": 1,
   "metadata": {},
   "outputs": [
    {
     "name": "stdout",
     "output_type": "stream",
     "text": [
      "Collecting unicodecsv\n",
      "  Downloading unicodecsv-0.14.1.tar.gz\n",
      "Building wheels for collected packages: unicodecsv\n",
      "  Running setup.py bdist_wheel for unicodecsv ... \u001b[?25ldone\n",
      "\u001b[?25h  Stored in directory: /home/bruce/.cache/pip/wheels/97/e2/16/219fa93b83edaff912b6805cfa19d0597e21f8d353f3e2d22f\n",
      "Successfully built unicodecsv\n",
      "Installing collected packages: unicodecsv\n",
      "Successfully installed unicodecsv-0.14.1\n"
     ]
    }
   ],
   "source": [
    "!pip install unicodecsv"
   ]
  },
  {
   "cell_type": "code",
   "execution_count": 1,
   "metadata": {},
   "outputs": [
    {
     "name": "stdout",
     "output_type": "stream",
     "text": [
      "Requirement already satisfied: numpy in /opt/miniconda2/lib/python2.7/site-packages\n",
      "Collecting matplotlib\n",
      "  Downloading matplotlib-2.1.2-cp27-cp27mu-manylinux1_x86_64.whl (15.0MB)\n",
      "\u001b[K    100% |████████████████████████████████| 15.0MB 90kB/s eta 0:00:011\n",
      "\u001b[?25hCollecting seaborn\n",
      "  Downloading seaborn-0.8.1.tar.gz (178kB)\n",
      "\u001b[K    100% |████████████████████████████████| 184kB 4.5MB/s ta 0:00:01\n",
      "\u001b[?25hRequirement already satisfied: python-dateutil>=2.1 in /opt/miniconda2/lib/python2.7/site-packages (from matplotlib)\n",
      "Collecting subprocess32 (from matplotlib)\n",
      "  Downloading subprocess32-3.2.7.tar.gz (54kB)\n",
      "\u001b[K    100% |████████████████████████████████| 61kB 3.6MB/s ta 0:00:01\n",
      "\u001b[?25hCollecting cycler>=0.10 (from matplotlib)\n",
      "  Downloading cycler-0.10.0-py2.py3-none-any.whl\n",
      "Requirement already satisfied: six>=1.10 in /opt/miniconda2/lib/python2.7/site-packages (from matplotlib)\n",
      "Collecting backports.functools-lru-cache (from matplotlib)\n",
      "  Downloading backports.functools_lru_cache-1.5-py2.py3-none-any.whl\n",
      "Requirement already satisfied: pytz in /opt/miniconda2/lib/python2.7/site-packages (from matplotlib)\n",
      "Collecting pyparsing!=2.0.4,!=2.1.2,!=2.1.6,>=2.0.1 (from matplotlib)\n",
      "  Downloading pyparsing-2.2.0-py2.py3-none-any.whl (56kB)\n",
      "\u001b[K    100% |████████████████████████████████| 61kB 8.2MB/s eta 0:00:01\n",
      "\u001b[?25hBuilding wheels for collected packages: seaborn, subprocess32\n",
      "  Running setup.py bdist_wheel for seaborn ... \u001b[?25ldone\n",
      "\u001b[?25h  Stored in directory: /home/bruce/.cache/pip/wheels/29/af/4b/ac6b04ec3e2da1a450e74c6a0e86ade83807b4aaf40466ecda\n",
      "  Running setup.py bdist_wheel for subprocess32 ... \u001b[?25ldone\n",
      "\u001b[?25h  Stored in directory: /home/bruce/.cache/pip/wheels/7d/4c/a4/ce9ceb463dae01f4b95e670abd9afc8d65a45f38012f8030cc\n",
      "Successfully built seaborn subprocess32\n",
      "Installing collected packages: subprocess32, cycler, backports.functools-lru-cache, pyparsing, matplotlib, seaborn\n",
      "Successfully installed backports.functools-lru-cache-1.5 cycler-0.10.0 matplotlib-2.1.2 pyparsing-2.2.0 seaborn-0.8.1 subprocess32-3.2.7\n"
     ]
    }
   ],
   "source": [
    "!pip install numpy matplotlib seaborn"
   ]
  },
  {
   "cell_type": "code",
   "execution_count": 2,
   "metadata": {},
   "outputs": [],
   "source": [
    "import matplotlib"
   ]
  },
  {
   "cell_type": "code",
   "execution_count": 3,
   "metadata": {},
   "outputs": [],
   "source": [
    "import numpy"
   ]
  },
  {
   "cell_type": "code",
   "execution_count": 4,
   "metadata": {},
   "outputs": [],
   "source": [
    "import seaborn"
   ]
  },
  {
   "cell_type": "code",
   "execution_count": null,
   "metadata": {},
   "outputs": [],
   "source": []
  }
 ],
 "metadata": {
  "kernelspec": {
   "display_name": "Python 2",
   "language": "python",
   "name": "python2"
  },
  "language_info": {
   "codemirror_mode": {
    "name": "ipython",
    "version": 2
   },
   "file_extension": ".py",
   "mimetype": "text/x-python",
   "name": "python",
   "nbconvert_exporter": "python",
   "pygments_lexer": "ipython2",
   "version": "2.7.14"
  }
 },
 "nbformat": 4,
 "nbformat_minor": 2
}
